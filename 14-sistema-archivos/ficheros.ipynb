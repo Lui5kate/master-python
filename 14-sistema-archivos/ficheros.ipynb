{
 "cells": [
  {
   "cell_type": "code",
   "execution_count": 6,
   "metadata": {},
   "outputs": [],
   "source": [
    "from io import open\n",
    "\n",
    "# Abrir archivo\n",
    "# Si ponemos solo el nombre de archivo y no está creado, lo creará en la ruta donde estamos ejecutando este .ipynb\n",
    "archivo = open(\"fichero_texto.txt\", \"a+\")"
   ]
  },
  {
   "cell_type": "code",
   "execution_count": 7,
   "metadata": {},
   "outputs": [
    {
     "name": "stdout",
     "output_type": "stream",
     "text": [
      "/home/luis/Proyectos/master-python/14-sistema-archivos/fichero_texto.txt\n"
     ]
    }
   ],
   "source": [
    "from io import open\n",
    "import pathlib\n",
    "\n",
    "# Si no conocemos la ruta absoluta de nuestro archivo podemos utilizar el pathlib\n",
    "ruta = str(pathlib.Path().absolute()) + \"/fichero_texto.txt\"\n",
    "print(ruta)\n",
    "archivo = open(ruta, \"a+\")"
   ]
  },
  {
   "cell_type": "code",
   "execution_count": 35,
   "metadata": {},
   "outputs": [],
   "source": [
    "ruta = str(pathlib.Path().absolute()) + \"/fichero_texto.txt\"\n",
    "archivo = open(ruta, \"a+\")\n",
    "# Escribir\n",
    "archivo.write(\"*****Soy un texto insertado desde python*****\\n\")\n",
    "# Cerrar archivo\n",
    "archivo.close()"
   ]
  },
  {
   "cell_type": "code",
   "execution_count": 27,
   "metadata": {},
   "outputs": [
    {
     "name": "stdout",
     "output_type": "stream",
     "text": [
      "*****Soy un texto insertado desde python*****\n",
      "*****Soy un texto insertado desde python*****\n",
      "\n"
     ]
    }
   ],
   "source": [
    "ruta = str(pathlib.Path().absolute()) + \"/fichero_texto.txt\"\n",
    "archivo_lectura = open(ruta, \"r\")\n",
    "\n",
    "# Leer contenido\n",
    "contenido = archivo_lectura.read()\n",
    "print(contenido)"
   ]
  },
  {
   "cell_type": "code",
   "execution_count": 42,
   "metadata": {},
   "outputs": [
    {
     "name": "stdout",
     "output_type": "stream",
     "text": [
      "- *****Soy un texto insertado desde python*****\n",
      "\n",
      "- 34\n",
      "\n",
      "- *****Soy un texto insertado desde python*****\n",
      "\n",
      "- *****Soy un texto insertado desde python*****\n",
      "\n"
     ]
    }
   ],
   "source": [
    "ruta = str(pathlib.Path().absolute()) + \"/fichero_texto.txt\"\n",
    "archivo_lectura = open(ruta, \"r\")\n",
    "\n",
    "# Leer contenido de todas las líneas y guardar en lista\n",
    "lista = archivo_lectura.readlines()\n",
    "archivo_lectura.close()\n",
    "\n",
    "for frase in lista:\n",
    "    print(\"- \"+frase)"
   ]
  },
  {
   "cell_type": "code",
   "execution_count": 43,
   "metadata": {},
   "outputs": [
    {
     "name": "stdout",
     "output_type": "stream",
     "text": [
      "- *****SOY UN TEXTO INSERTADO DESDE PYTHON*****\n",
      "\n",
      "- 34\n",
      "\n",
      "- *****SOY UN TEXTO INSERTADO DESDE PYTHON*****\n",
      "\n",
      "- *****SOY UN TEXTO INSERTADO DESDE PYTHON*****\n",
      "\n"
     ]
    }
   ],
   "source": [
    "ruta = str(pathlib.Path().absolute()) + \"/fichero_texto.txt\"\n",
    "archivo_lectura = open(ruta, \"r\")\n",
    "\n",
    "# Leer contenido de todas las líneas y guardar en lista\n",
    "lista = archivo_lectura.readlines()\n",
    "archivo_lectura.close()\n",
    "for frase in lista:\n",
    "    print(\"- \"+frase.upper())"
   ]
  },
  {
   "cell_type": "code",
   "execution_count": 57,
   "metadata": {},
   "outputs": [
    {
     "name": "stdout",
     "output_type": "stream",
     "text": [
      "- HOLA\n",
      "\n",
      "- hola\n",
      "\n",
      "- 2\n"
     ]
    }
   ],
   "source": [
    "ruta = str(pathlib.Path().absolute()) + \"/fichero_texto.txt\"\n",
    "archivo_lectura = open(ruta, \"r\")\n",
    "\n",
    "# Leer contenido de todas las líneas y guardar en lista\n",
    "lista = archivo_lectura.readlines()\n",
    "archivo_lectura.close()\n",
    "\n",
    "for frase in lista:\n",
    "    if frase.isupper():\n",
    "        print(\"- \"+frase)\n",
    "\n",
    "for frase in lista:\n",
    "    if frase.islower():\n",
    "        print(\"- \"+frase)\n",
    "\n",
    "# Imprime las lineas con numeros, pero no los mostrará si tienen saltos de línea\n",
    "for frase in lista:\n",
    "    if frase.isnumeric():\n",
    "        print(\"- \"+frase)"
   ]
  },
  {
   "cell_type": "code",
   "execution_count": 63,
   "metadata": {},
   "outputs": [
    {
     "name": "stdout",
     "output_type": "stream",
     "text": [
      "['*****Soy', 'un', 'texto', 'insertado', 'desde', 'python*****']\n",
      "['3.23']\n",
      "['HOLA']\n",
      "['hola']\n",
      "['*****Soy', 'un', 'texto', 'insertado', 'desde', 'python*****']\n",
      "['*****Soy', 'un', 'texto', 'insertado', 'desde', 'python*****']\n",
      "['1']\n",
      "['2']\n"
     ]
    }
   ],
   "source": [
    "ruta = str(pathlib.Path().absolute()) + \"/fichero_texto.txt\"\n",
    "archivo_lectura = open(ruta, \"r\")\n",
    "\n",
    "# Leer contenido de todas las líneas y guardar en lista\n",
    "lista = archivo_lectura.readlines()\n",
    "archivo_lectura.close()\n",
    "\n",
    "# split convierte en una lista cada elemento apoyandose del for\n",
    "for frase in lista:\n",
    "    lista_frase = frase.split()\n",
    "    print(lista_frase)"
   ]
  },
  {
   "cell_type": "code",
   "execution_count": 64,
   "metadata": {},
   "outputs": [
    {
     "name": "stdout",
     "output_type": "stream",
     "text": [
      "-                            *****Soy un texto insertado desde python*****\n",
      "                           \n",
      "-                                                3.23\n",
      "                                                \n",
      "-                                                HOLA\n",
      "                                                \n",
      "-                                                hola\n",
      "                                                \n",
      "-                            *****Soy un texto insertado desde python*****\n",
      "                           \n",
      "-                            *****Soy un texto insertado desde python*****\n",
      "                           \n",
      "-                                                  1\n",
      "                                                 \n",
      "-                                                  2                                                  \n"
     ]
    }
   ],
   "source": [
    "ruta = str(pathlib.Path().absolute()) + \"/fichero_texto.txt\"\n",
    "archivo_lectura = open(ruta, \"r\")\n",
    "\n",
    "# Leer contenido de todas las líneas y guardar en lista\n",
    "lista = archivo_lectura.readlines()\n",
    "archivo_lectura.close()\n",
    "\n",
    "# centra el elemento de acuerdo a los espacios que coloques, en este caso 100\n",
    "for frase in lista:\n",
    "    print(\"- \" + frase.center(100))"
   ]
  },
  {
   "cell_type": "code",
   "execution_count": 68,
   "metadata": {},
   "outputs": [
    {
     "data": {
      "text/plain": [
       "'/home/luis/Proyectos/master-python/14-sistema-archivos/../07-ejercicios/fichero_copiado11.txt'"
      ]
     },
     "execution_count": 68,
     "metadata": {},
     "output_type": "execute_result"
    }
   ],
   "source": [
    "import shutil\n",
    "\n",
    "# Copiar\n",
    "ruta_original = str(pathlib.Path().absolute()) + \"/fichero_texto.txt\"\n",
    "ruta_nueva = str(pathlib.Path().absolute()) + \"/fichero_copiado.txt\"\n",
    "shutil.copyfile(ruta_original,ruta_nueva)\n",
    "\n",
    "# copiar a otra carpeta fuera de la actual con \"..\"\n",
    "ruta_alternativa = str(pathlib.Path().absolute()) + \"/../07-ejercicios/fichero_copiado11.txt\"\n",
    "shutil.copyfile(ruta_original,ruta_alternativa)"
   ]
  },
  {
   "cell_type": "code",
   "execution_count": 69,
   "metadata": {},
   "outputs": [
    {
     "data": {
      "text/plain": [
       "'/home/luis/Proyectos/master-python/14-sistema-archivos/fichero_texto_Nuevo.txt'"
      ]
     },
     "execution_count": 69,
     "metadata": {},
     "output_type": "execute_result"
    }
   ],
   "source": [
    "# Mover\n",
    "# Si la ruta es la misma, podemos renombrar el archivo\n",
    "ruta_original = str(pathlib.Path().absolute()) + \"/fichero_texto.txt\"\n",
    "ruta_nueva = str(pathlib.Path().absolute()) + \"/fichero_texto_Nuevo.txt\"\n",
    "shutil.move(ruta_original,ruta_nueva)"
   ]
  },
  {
   "cell_type": "code",
   "execution_count": 70,
   "metadata": {},
   "outputs": [],
   "source": [
    "# Eliminar\n",
    "import os\n",
    "ruta_nueva = str(pathlib.Path().absolute()) + \"/fichero_texto_Nuevo.txt\"\n",
    "os.remove(ruta_nueva)"
   ]
  },
  {
   "cell_type": "code",
   "execution_count": 77,
   "metadata": {},
   "outputs": [
    {
     "name": "stdout",
     "output_type": "stream",
     "text": [
      "/home/luis/Proyectos/master-python/14-sistema-archivos\n",
      "/home/luis/Proyectos/master-python\n",
      "El archivo existe\n"
     ]
    }
   ],
   "source": [
    "# Comprobar si existe archivo\n",
    "import os.path\n",
    "# Otra forma de ver ruta absoluta\n",
    "print(os.path.abspath(\"./\"))\n",
    "print(os.path.abspath(\"../\"))\n",
    "\n",
    "if os.path.isfile(os.path.abspath(\"./\") + \"/fichero_copiado.txt\"):\n",
    "    print(\"El archivo existe\")\n",
    "else:\n",
    "    print(\"El archivo no existe\")"
   ]
  }
 ],
 "metadata": {
  "kernelspec": {
   "display_name": "Python 3",
   "language": "python",
   "name": "python3"
  },
  "language_info": {
   "codemirror_mode": {
    "name": "ipython",
    "version": 3
   },
   "file_extension": ".py",
   "mimetype": "text/x-python",
   "name": "python",
   "nbconvert_exporter": "python",
   "pygments_lexer": "ipython3",
   "version": "3.11.8"
  }
 },
 "nbformat": 4,
 "nbformat_minor": 2
}
