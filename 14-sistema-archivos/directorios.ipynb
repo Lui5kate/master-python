{
 "cells": [
  {
   "cell_type": "code",
   "execution_count": 6,
   "metadata": {},
   "outputs": [
    {
     "name": "stdout",
     "output_type": "stream",
     "text": [
      "Directorio creado\n"
     ]
    }
   ],
   "source": [
    "# crear carpeta\n",
    "import os\n",
    "if not os.path.isdir(\"./mi_carpeta\"):\n",
    "    crear_directorio = str(os.mkdir(\"./mi_carpeta\"))\n",
    "    print(\"Directorio creado\")\n",
    "else:\n",
    "    print(\"Ya existe el directorio\")"
   ]
  },
  {
   "cell_type": "code",
   "execution_count": 5,
   "metadata": {},
   "outputs": [],
   "source": [
    "# eliminar carpeta\n",
    "os.rmdir(\"./mi_carpeta/\")"
   ]
  },
  {
   "cell_type": "code",
   "execution_count": 7,
   "metadata": {},
   "outputs": [
    {
     "data": {
      "text/plain": [
       "'./mi_carpeta_COPIADA'"
      ]
     },
     "execution_count": 7,
     "metadata": {},
     "output_type": "execute_result"
    }
   ],
   "source": [
    "import shutil\n",
    "# copiar carpeta\n",
    "ruta_original = \"./mi_carpeta\"\n",
    "ruta_nueva = \"./mi_carpeta_COPIADA\"\n",
    "\n",
    "shutil.copytree(ruta_original, ruta_nueva)"
   ]
  },
  {
   "cell_type": "code",
   "execution_count": 8,
   "metadata": {},
   "outputs": [
    {
     "name": "stdout",
     "output_type": "stream",
     "text": [
      "Contenido de mi carpeta: \n",
      "['archivo.txt', 'holamundo.txt']\n"
     ]
    }
   ],
   "source": [
    "print(\"Contenido de mi carpeta: \")\n",
    "contenido = os.listdir(\"./mi_carpeta\")\n",
    "print(contenido)"
   ]
  },
  {
   "cell_type": "code",
   "execution_count": 9,
   "metadata": {},
   "outputs": [
    {
     "name": "stdout",
     "output_type": "stream",
     "text": [
      "Fichero: archivo.txt\n",
      "Fichero: holamundo.txt\n"
     ]
    }
   ],
   "source": [
    "for fichero in contenido:\n",
    "    print(\"Fichero: \" + fichero)"
   ]
  }
 ],
 "metadata": {
  "kernelspec": {
   "display_name": "Python 3",
   "language": "python",
   "name": "python3"
  },
  "language_info": {
   "codemirror_mode": {
    "name": "ipython",
    "version": 3
   },
   "file_extension": ".py",
   "mimetype": "text/x-python",
   "name": "python",
   "nbconvert_exporter": "python",
   "pygments_lexer": "ipython3",
   "version": "3.11.8"
  }
 },
 "nbformat": 4,
 "nbformat_minor": 2
}
