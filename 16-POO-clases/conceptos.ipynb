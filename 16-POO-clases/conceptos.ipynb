{
 "cells": [
  {
   "cell_type": "markdown",
   "metadata": {},
   "source": [
    "* Clases: Define las propiedades de nuestro objeto, molde para crear objetos. Ej: Clase Coche, Carro\n",
    "* Atributos/Propiedades: Características que van a formar nuestro objeto, dentro de las clases. Ej: Puertas, color, marca, modelo\n",
    "* Métodos: Son las acciones que va a realizar nuestro objeto. Ej: Arrancar, girar, frenar\n",
    "* Crear Objetos: new Coche()\n",
    "* Abstracción: Poder utilizar objetos sin necesidad de conocer el funcionamiento interno que tiene ese objeto\n",
    "* Herencia: Las clases pueden heredar unas de otras, heredan propiedades y métodos\n",
    "* Modularidad: Dividir la aplicación en partes mas pequeñas\n",
    "* Ocultación: Cada objeto tiene sus datos ocultos que deben modificarse dentro de la misma clase, se pueden usar getters y setters para que puedan ser utilizados"
   ]
  }
 ],
 "metadata": {
  "language_info": {
   "name": "python"
  }
 },
 "nbformat": 4,
 "nbformat_minor": 2
}
